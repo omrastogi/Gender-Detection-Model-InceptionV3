{
 "cells": [
  {
   "cell_type": "markdown",
   "execution_count": null,
   "metadata": {},
   "source": [
    "# Gender Detection Using Keras - Inceptionv3"
   ]
  },
  {
   "cell_type": "markdown",
   "execution_count": null,
   "metadata": {},
   "source": [
    "### Importing libraries"
   ]
  },
  {
   "cell_type": "code",
   "execution_count": 1,
   "metadata": {},
   "outputs": [
    {
     "name": "stderr",
     "output_type": "stream",
     "text": [
      "Using TensorFlow backend.\n"
     ]
    }
   ],
   "source": [
    "import numpy as np # linear algebra\n",
    "import pandas as pd # data processing, CSV file I/O (e.g. pd.read_csv)\n",
    "import cv2 \n",
    "import seaborn as sns\n",
    "from matplotlib import pyplot as plt\n",
    "\n",
    "from keras.applications.inception_v3 import InceptionV3, preprocess_input\n",
    "from keras import optimizers\n",
    "from keras.models import Sequential, Model \n",
    "from keras.layers import Dropout, Flatten, Dense, GlobalAveragePooling2D\n",
    "from keras.callbacks import ModelCheckpoint\n",
    "from keras.preprocessing.image import ImageDataGenerator, array_to_img, img_to_array, load_img\n",
    "from keras.utils import np_utils\n",
    "from keras.optimizers import SGD\n",
    "\n",
    "from IPython.core.display import display, HTML\n",
    "from PIL import Image\n",
    "from io import BytesIO\n",
    "import base64\n",
    "\n",
    "plt.style.use('ggplot')\n",
    "\n",
    "%matplotlib inline"
   ]
  },
  {
   "cell_type": "markdown",
   "execution_count": null,
   "metadata": {},
   "source": [
    "### Extracting Data"
   ]
  },
  {
   "cell_type": "code",
   "execution_count": 2,
   "metadata": {
    "_cell_guid": "79c7e3d0-c299-4dcb-8224-4455121ee9b0",
    "_uuid": "d629ff2d2480ee46fbb7e2d37f6b5fab8052498a"
   },
   "outputs": [],
   "source": [
    "# set variables \n",
    "main_folder = '../input/celeba-dataset/'\n",
    "images_folder = main_folder + 'img_align_celeba/img_align_celeba/'\n",
    "\n",
    "EXAMPLE_PIC = images_folder + '000506.jpg'\n"
   ]
  },
  {
   "cell_type": "code",
   "execution_count": 3,
   "metadata": {},
   "outputs": [
    {
     "data": {
      "text/plain": [
       "(202599, 40)"
      ]
     },
     "execution_count": 3,
     "metadata": {},
     "output_type": "execute_result"
    }
   ],
   "source": [
    "# import the data set that include the attribute for each picture\n",
    "df_attr = pd.read_csv(main_folder + 'list_attr_celeba.csv')\n",
    "df_attr.set_index('image_id', inplace=True)\n",
    "df_attr.replace(to_replace=-1, value=0, inplace=True) #replace -1 by 0\n",
    "df_attr.shape"
   ]
  },
  {
   "cell_type": "markdown",
   "execution_count": null,
   "metadata": {},
   "source": [
    "### Studying The Data"
   ]
  },
  {
   "cell_type": "code",
   "execution_count": 4,
   "metadata": {},
   "outputs": [
    {
     "name": "stdout",
     "output_type": "stream",
     "text": [
      "<class 'pandas.core.frame.DataFrame'>\n",
      "Index: 202599 entries, 000001.jpg to 202599.jpg\n",
      "Data columns (total 40 columns):\n",
      " #   Column               Non-Null Count   Dtype\n",
      "---  ------               --------------   -----\n",
      " 0   5_o_Clock_Shadow     202599 non-null  int64\n",
      " 1   Arched_Eyebrows      202599 non-null  int64\n",
      " 2   Attractive           202599 non-null  int64\n",
      " 3   Bags_Under_Eyes      202599 non-null  int64\n",
      " 4   Bald                 202599 non-null  int64\n",
      " 5   Bangs                202599 non-null  int64\n",
      " 6   Big_Lips             202599 non-null  int64\n",
      " 7   Big_Nose             202599 non-null  int64\n",
      " 8   Black_Hair           202599 non-null  int64\n",
      " 9   Blond_Hair           202599 non-null  int64\n",
      " 10  Blurry               202599 non-null  int64\n",
      " 11  Brown_Hair           202599 non-null  int64\n",
      " 12  Bushy_Eyebrows       202599 non-null  int64\n",
      " 13  Chubby               202599 non-null  int64\n",
      " 14  Double_Chin          202599 non-null  int64\n",
      " 15  Eyeglasses           202599 non-null  int64\n",
      " 16  Goatee               202599 non-null  int64\n",
      " 17  Gray_Hair            202599 non-null  int64\n",
      " 18  Heavy_Makeup         202599 non-null  int64\n",
      " 19  High_Cheekbones      202599 non-null  int64\n",
      " 20  Male                 202599 non-null  int64\n",
      " 21  Mouth_Slightly_Open  202599 non-null  int64\n",
      " 22  Mustache             202599 non-null  int64\n",
      " 23  Narrow_Eyes          202599 non-null  int64\n",
      " 24  No_Beard             202599 non-null  int64\n",
      " 25  Oval_Face            202599 non-null  int64\n",
      " 26  Pale_Skin            202599 non-null  int64\n",
      " 27  Pointy_Nose          202599 non-null  int64\n",
      " 28  Receding_Hairline    202599 non-null  int64\n",
      " 29  Rosy_Cheeks          202599 non-null  int64\n",
      " 30  Sideburns            202599 non-null  int64\n",
      " 31  Smiling              202599 non-null  int64\n",
      " 32  Straight_Hair        202599 non-null  int64\n",
      " 33  Wavy_Hair            202599 non-null  int64\n",
      " 34  Wearing_Earrings     202599 non-null  int64\n",
      " 35  Wearing_Hat          202599 non-null  int64\n",
      " 36  Wearing_Lipstick     202599 non-null  int64\n",
      " 37  Wearing_Necklace     202599 non-null  int64\n",
      " 38  Wearing_Necktie      202599 non-null  int64\n",
      " 39  Young                202599 non-null  int64\n",
      "dtypes: int64(40)\n",
      "memory usage: 63.4+ MB\n"
     ]
    }
   ],
   "source": [
    "df_attr.info()"
   ]
  },
  {
   "cell_type": "code",
   "execution_count": 5,
   "metadata": {},
   "outputs": [
    {
     "data": {
      "text/plain": [
       "image_id\n",
       "000001.jpg    0\n",
       "000002.jpg    0\n",
       "000003.jpg    1\n",
       "000004.jpg    0\n",
       "000005.jpg    0\n",
       "Name: Male, dtype: int64"
      ]
     },
     "execution_count": 5,
     "metadata": {},
     "output_type": "execute_result"
    }
   ],
   "source": [
    "gender = df_attr[\"Male\"]\n",
    "# In gender array 0-Female while 1-Male\n",
    "gender.head(5)"
   ]
  },
  {
   "cell_type": "code",
   "execution_count": 6,
   "metadata": {},
   "outputs": [
    {
     "data": {
      "image/png": "[encoded data removed]",
      "text/plain": [
       "<Figure size 432x288 with 1 Axes>"
      ]
     },
     "metadata": {
      "needs_background": "light"
     },
     "output_type": "display_data"
    }
   ],
   "source": [
    "plt.title('Female or Male')\n",
    "sns.countplot(y='Male', data=df_attr, color=\"c\")\n",
    "plt.show()"
   ]
  },
  {
   "cell_type": "code",
   "execution_count": 7,
   "metadata": {},
   "outputs": [
    {
     "data": {
      "text/html": [
       "<div>\n",
       "<style scoped>\n",
       "    .dataframe tbody tr th:only-of-type {\n",
       "        vertical-align: middle;\n",
       "    }\n",
       "\n",
       "    .dataframe tbody tr th {\n",
       "        vertical-align: top;\n",
       "    }\n",
       "\n",
       "    .dataframe thead th {\n",
       "        text-align: right;\n",
       "    }\n",
       "</style>\n",
       "<table border=\"1\" class=\"dataframe\">\n",
       "  <thead>\n",
       "    <tr style=\"text-align: right;\">\n",
       "      <th></th>\n",
       "      <th>image_id</th>\n",
       "      <th>partition</th>\n",
       "    </tr>\n",
       "  </thead>\n",
       "  <tbody>\n",
       "    <tr>\n",
       "      <th>0</th>\n",
       "      <td>000001.jpg</td>\n",
       "      <td>0</td>\n",
       "    </tr>\n",
       "    <tr>\n",
       "      <th>1</th>\n",
       "      <td>000002.jpg</td>\n",
       "      <td>0</td>\n",
       "    </tr>\n",
       "    <tr>\n",
       "      <th>2</th>\n",
       "      <td>000003.jpg</td>\n",
       "      <td>0</td>\n",
       "    </tr>\n",
       "    <tr>\n",
       "      <th>3</th>\n",
       "      <td>000004.jpg</td>\n",
       "      <td>0</td>\n",
       "    </tr>\n",
       "    <tr>\n",
       "      <th>4</th>\n",
       "      <td>000005.jpg</td>\n",
       "      <td>0</td>\n",
       "    </tr>\n",
       "  </tbody>\n",
       "</table>\n",
       "</div>"
      ],
      "text/plain": [
       "     image_id  partition\n",
       "0  000001.jpg          0\n",
       "1  000002.jpg          0\n",
       "2  000003.jpg          0\n",
       "3  000004.jpg          0\n",
       "4  000005.jpg          0"
      ]
     },
     "execution_count": 7,
     "metadata": {},
     "output_type": "execute_result"
    }
   ],
   "source": [
    "df_partition = pd.read_csv(main_folder + 'list_eval_partition.csv')\n",
    "df_partition.head()"
   ]
  },
  {
   "cell_type": "markdown",
   "execution_count": null,
   "metadata": {},
   "source": [
    "### Partitioning Data"
   ]
  },
  {
   "cell_type": "code",
   "execution_count": 8,
   "metadata": {},
   "outputs": [
    {
     "data": {
      "text/plain": [
       "0    162770\n",
       "1     19867\n",
       "2     19962\n",
       "Name: partition, dtype: int64"
      ]
     },
     "execution_count": 8,
     "metadata": {},
     "output_type": "execute_result"
    }
   ],
   "source": [
    "# display counter by partition\n",
    "# 0 -> TRAINING\n",
    "# 1 -> VALIDATION\n",
    "# 2 -> TEST\n",
    "df_partition['partition'].value_counts().sort_index()"
   ]
  },
  {
   "cell_type": "code",
   "execution_count": 9,
   "metadata": {},
   "outputs": [
    {
     "data": {
      "text/html": [
       "<div>\n",
       "<style scoped>\n",
       "    .dataframe tbody tr th:only-of-type {\n",
       "        vertical-align: middle;\n",
       "    }\n",
       "\n",
       "    .dataframe tbody tr th {\n",
       "        vertical-align: top;\n",
       "    }\n",
       "\n",
       "    .dataframe thead th {\n",
       "        text-align: right;\n",
       "    }\n",
       "</style>\n",
       "<table border=\"1\" class=\"dataframe\">\n",
       "  <thead>\n",
       "    <tr style=\"text-align: right;\">\n",
       "      <th></th>\n",
       "      <th>partition</th>\n",
       "      <th>Male</th>\n",
       "    </tr>\n",
       "    <tr>\n",
       "      <th>image_id</th>\n",
       "      <th></th>\n",
       "      <th></th>\n",
       "    </tr>\n",
       "  </thead>\n",
       "  <tbody>\n",
       "    <tr>\n",
       "      <th>000001.jpg</th>\n",
       "      <td>0</td>\n",
       "      <td>0</td>\n",
       "    </tr>\n",
       "    <tr>\n",
       "      <th>000002.jpg</th>\n",
       "      <td>0</td>\n",
       "      <td>0</td>\n",
       "    </tr>\n",
       "    <tr>\n",
       "      <th>000003.jpg</th>\n",
       "      <td>0</td>\n",
       "      <td>1</td>\n",
       "    </tr>\n",
       "    <tr>\n",
       "      <th>000004.jpg</th>\n",
       "      <td>0</td>\n",
       "      <td>0</td>\n",
       "    </tr>\n",
       "    <tr>\n",
       "      <th>000005.jpg</th>\n",
       "      <td>0</td>\n",
       "      <td>0</td>\n",
       "    </tr>\n",
       "  </tbody>\n",
       "</table>\n",
       "</div>"
      ],
      "text/plain": [
       "            partition  Male\n",
       "image_id                   \n",
       "000001.jpg          0     0\n",
       "000002.jpg          0     0\n",
       "000003.jpg          0     1\n",
       "000004.jpg          0     0\n",
       "000005.jpg          0     0"
      ]
     },
     "execution_count": 9,
     "metadata": {},
     "output_type": "execute_result"
    }
   ],
   "source": [
    "df_partition.set_index('image_id', inplace=True)\n",
    "df_par_attr = df_partition.join(gender, how='inner')\n",
    "df_par_attr.head()"
   ]
  },
  {
   "cell_type": "code",
   "execution_count": 10,
   "metadata": {},
   "outputs": [],
   "source": [
    "def load_reshape_img(fname):\n",
    "    img = load_img(fname)\n",
    "    x = img_to_array(img)/255.\n",
    "    x = x.reshape((1,) + x.shape)\n",
    "\n",
    "    return x\n",
    "\n",
    "\n",
    "def generate_df(partition, attr, num_samples):\n",
    "    '''\n",
    "    partition\n",
    "        0 -> train\n",
    "        1 -> validation\n",
    "        2 -> test\n",
    "    \n",
    "    '''\n",
    "    \n",
    "    df_ = df_par_attr[(df_par_attr['partition'] == partition) \n",
    "                           & (df_par_attr[attr] == 0)].sample(int(num_samples/2))\n",
    "    df_ = pd.concat([df_,\n",
    "                      df_par_attr[(df_par_attr['partition'] == partition) \n",
    "                                  & (df_par_attr[attr] == 1)].sample(int(num_samples/2))])\n",
    "\n",
    "    # for Train and Validation\n",
    "    if partition != 2:\n",
    "        x_ = np.array([load_reshape_img(images_folder + fname) for fname in df_.index])\n",
    "        x_ = x_.reshape(x_.shape[0], 218, 178, 3)\n",
    "        y_ = np_utils.to_categorical(df_[attr],2)\n",
    "    # for Test\n",
    "    else:\n",
    "        x_ = []\n",
    "        y_ = []\n",
    "\n",
    "        for index, target in df_.iterrows():\n",
    "            im = cv2.imread(images_folder + index)\n",
    "            im = cv2.resize(cv2.cvtColor(im, cv2.COLOR_BGR2RGB), (IMG_WIDTH, IMG_HEIGHT)).astype(np.float32) / 255.0\n",
    "            im = np.expand_dims(im, axis =0)\n",
    "            x_.append(im)\n",
    "            y_.append(target[attr])\n",
    "\n",
    "    return x_, y_"
   ]
  },
  {
   "cell_type": "code",
   "execution_count": 11,
   "metadata": {},
   "outputs": [],
   "source": [
    "TRAINING_SAMPLES = 10000\n",
    "VALIDATION_SAMPLES = 2000\n",
    "\n",
    "x_train, y_train = generate_df(0, 'Male', TRAINING_SAMPLES)\n",
    "x_valid, y_valid = generate_df(1, 'Male', VALIDATION_SAMPLES)"
   ]
  },
  {
   "cell_type": "markdown",
   "execution_count": null,
   "metadata": {},
   "source": [
    "# Build the Model - Gender Recognition"
   ]
  },
  {
   "cell_type": "code",
   "execution_count": 12,
   "metadata": {},
   "outputs": [
    {
     "name": "stdout",
     "output_type": "stream",
     "text": [
      "Downloading data from https://github.com/fchollet/deep-learning-models/releases/download/v0.5/inception_v3_weights_tf_dim_ordering_tf_kernels_notop.h5\n",
      "87916544/87910968 [==============================] - 3s 0us/step\n",
      "number of layers: 311\n"
     ]
    }
   ],
   "source": [
    "IMG_HEIGHT = 218\n",
    "IMG_WIDTH = 178\n",
    "BATCH_SIZE = 100\n",
    "NUM_EPOCHS = 5\n",
    "\n",
    "inc_model = InceptionV3(weights= 'imagenet',\n",
    "                        include_top=False,\n",
    "                        input_shape=(IMG_HEIGHT, IMG_WIDTH, 3))\n",
    "\n",
    "print(\"number of layers:\", len(inc_model.layers))"
   ]
  },
  {
   "cell_type": "markdown",
   "execution_count": null,
   "metadata": {},
   "source": [
    "#### Adding Custom layers"
   ]
  },
  {
   "cell_type": "code",
   "execution_count": 13,
   "metadata": {},
   "outputs": [],
   "source": [
    "#Adding custom Layers\n",
    "x = inc_model.output\n",
    "x = GlobalAveragePooling2D()(x)\n",
    "x = Dense(1024, activation=\"relu\")(x)\n",
    "x = Dropout(0.5)(x)\n",
    "x = Dense(512, activation=\"relu\")(x)\n",
    "predictions = Dense(2, activation=\"softmax\")(x)"
   ]
  },
  {
   "cell_type": "code",
   "execution_count": 14,
   "metadata": {},
   "outputs": [],
   "source": [
    "model_ = Model(inputs=inc_model.input, outputs=predictions)\n",
    "\n",
    "# Lock initial layers to do not be trained\n",
    "for layer in model_.layers[:52]:\n",
    "    layer.trainable = False\n",
    "\n",
    "# compile the model\n",
    "model_.compile(optimizer=SGD(lr=0.0001, momentum=0.9)\n",
    "                    , loss='categorical_crossentropy'\n",
    "                    , metrics=['accuracy'])"
   ]
  },
  {
   "cell_type": "code",
   "execution_count": 15,
   "metadata": {},
   "outputs": [],
   "source": [
    "checkpointer = ModelCheckpoint(filepath='weights.best.inc.male.hdf5', \n",
    "                               verbose=1, save_best_only=True)"
   ]
  },
  {
   "cell_type": "markdown",
   "execution_count": null,
   "metadata": {},
   "source": [
    "### Data Augmentation: Preprocessing"
   ]
  },
  {
   "cell_type": "code",
   "execution_count": 16,
   "metadata": {},
   "outputs": [],
   "source": [
    "train_datagen =  ImageDataGenerator(\n",
    "  preprocessing_function=preprocess_input,\n",
    "  rotation_range=30,\n",
    "  width_shift_range=0.2,\n",
    "  height_shift_range=0.2,\n",
    "  shear_range=0.2,\n",
    "  zoom_range=0.2,\n",
    "  horizontal_flip=True,\n",
    ")\n",
    "\n",
    "train_datagen.fit(x_train)\n",
    "\n",
    "train_generator = train_datagen.flow(\n",
    "x_train, y_train,\n",
    "batch_size=BATCH_SIZE,\n",
    ")"
   ]
  },
  {
   "cell_type": "markdown",
   "execution_count": null,
   "metadata": {},
   "source": [
    "### Training Data"
   ]
  },
  {
   "cell_type": "code",
   "execution_count": 17,
   "metadata": {},
   "outputs": [
    {
     "name": "stdout",
     "output_type": "stream",
     "text": [
      "Epoch 1/5\n",
      "100/100 [==============================] - 1461s 15s/step - loss: 0.7058 - accuracy: 0.5411 - val_loss: 0.5633 - val_accuracy: 0.7420\n",
      "\n",
      "Epoch 00001: val_loss improved from inf to 0.56334, saving model to weights.best.inc.male.hdf5\n",
      "Epoch 2/5\n",
      "100/100 [==============================] - 1446s 14s/step - loss: 0.6191 - accuracy: 0.6552 - val_loss: 0.4752 - val_accuracy: 0.8110\n",
      "\n",
      "Epoch 00002: val_loss improved from 0.56334 to 0.47523, saving model to weights.best.inc.male.hdf5\n",
      "Epoch 3/5\n",
      "100/100 [==============================] - 1453s 15s/step - loss: 0.5474 - accuracy: 0.7392 - val_loss: 0.4375 - val_accuracy: 0.8055\n",
      "\n",
      "Epoch 00003: val_loss improved from 0.47523 to 0.43750, saving model to weights.best.inc.male.hdf5\n",
      "Epoch 4/5\n",
      "100/100 [==============================] - 1436s 14s/step - loss: 0.4864 - accuracy: 0.7879 - val_loss: 0.3951 - val_accuracy: 0.8285\n",
      "\n",
      "Epoch 00004: val_loss improved from 0.43750 to 0.39510, saving model to weights.best.inc.male.hdf5\n",
      "Epoch 5/5\n",
      "100/100 [==============================] - 1444s 14s/step - loss: 0.4276 - accuracy: 0.8220 - val_loss: 0.3706 - val_accuracy: 0.8350\n",
      "\n",
      "Epoch 00005: val_loss improved from 0.39510 to 0.37059, saving model to weights.best.inc.male.hdf5\n"
     ]
    }
   ],
   "source": [
    "hist = model_.fit_generator(train_generator\n",
    "                     , validation_data = (x_valid, y_valid)\n",
    "                      , steps_per_epoch= TRAINING_SAMPLES/BATCH_SIZE\n",
    "                      , epochs= NUM_EPOCHS\n",
    "                      , callbacks=[checkpointer]\n",
    "                      , verbose=1\n",
    "                    )"
   ]
  },
  {
   "cell_type": "code",
   "execution_count": 18,
   "metadata": {},
   "outputs": [
    {
     "data": {
      "image/png": "[encoded data removed]",
      "text/plain": [
       "<Figure size 1296x288 with 1 Axes>"
      ]
     },
     "metadata": {
      "needs_background": "light"
     },
     "output_type": "display_data"
    }
   ],
   "source": [
    "plt.figure(figsize=(18, 4))\n",
    "plt.plot(hist.history['loss'], label = 'train')\n",
    "plt.plot(hist.history['val_loss'], label = 'valid')\n",
    "plt.legend()\n",
    "plt.title('Loss Function')\n",
    "plt.show()"
   ]
  },
  {
   "cell_type": "code",
   "execution_count": 19,
   "metadata": {},
   "outputs": [
    {
     "name": "stdout",
     "output_type": "stream",
     "text": [
      "{'val_loss': [0.5633423909544945, 0.4752343863248825, 0.4374952919781208, 0.39509521052241325, 0.37058502472937105], 'val_accuracy': [0.7419999837875366, 0.8109999895095825, 0.8054999709129333, 0.828499972820282, 0.8349999785423279], 'loss': [0.7057957828044892, 0.619101396203041, 0.5473547944426537, 0.48641176640987394, 0.4275737702846527], 'accuracy': [0.5411, 0.6552, 0.7392, 0.7879, 0.822]}\n"
     ]
    }
   ],
   "source": [
    "print (hist.history)"
   ]
  },
  {
   "cell_type": "code",
   "execution_count": 20,
   "metadata": {},
   "outputs": [
    {
     "data": {
      "image/png": "[encoded data removed]",
      "text/plain": [
       "<Figure size 1296x288 with 1 Axes>"
      ]
     },
     "metadata": {
      "needs_background": "light"
     },
     "output_type": "display_data"
    }
   ],
   "source": [
    "plt.figure(figsize=(18, 4))\n",
    "plt.plot(hist.history['accuracy'], label = 'train')\n",
    "plt.plot(hist.history['val_accuracy'], label = 'valid')\n",
    "plt.legend()\n",
    "plt.title('Accuracy')\n",
    "plt.show()"
   ]
  },
  {
   "cell_type": "code",
   "execution_count": 21,
   "metadata": {},
   "outputs": [
    {
     "name": "stdout",
     "output_type": "stream",
     "text": [
      "Model Evaluation\n",
      "Test accuracy: 85.2500%\n",
      "f1_score: 0.8356545961002785\n"
     ]
    }
   ],
   "source": [
    "from sklearn.metrics import f1_score\n",
    "TEST_SAMPLES = 2000\n",
    "model_.load_weights('weights.best.inc.male.hdf5')\n",
    "\n",
    "x_test, y_test = generate_df(2, 'Male', TEST_SAMPLES)\n",
    "\n",
    "# generate prediction\n",
    "model_predictions = [np.argmax(model_.predict(feature)) for feature in x_test ]\n",
    "\n",
    "# report test accuracy\n",
    "test_accuracy = 100 * np.sum(np.array(model_predictions)==y_test) / len(model_predictions)\n",
    "print('Model Evaluation')\n",
    "print('Test accuracy: %.4f%%' % test_accuracy)\n",
    "print('f1_score:', f1_score(y_test, model_predictions))"
   ]
  },
  {
   "cell_type": "markdown",
   "execution_count": null,
   "metadata": {},
   "source": [
    "### We have an 83 percent accuracy by training the model for 25 minutes, the accuracy would only increase with the training time as the curve is still rising. \n",
    "\n"
   ]
  },
  {
   "cell_type": "markdown",
   "execution_count": null,
   "metadata": {},
   "source": [
    "Thanks to Marcos Alvarado, as took some help from his awesome work."
   ]
  }
 ],
 "metadata": {
  "kernelspec": {
   "display_name": "Python 3",
   "language": "python",
   "name": "python3"
  },
  "language_info": {
   "codemirror_mode": {
    "name": "ipython",
    "version": 3
   },
   "file_extension": ".py",
   "mimetype": "text/x-python",
   "name": "python",
   "nbconvert_exporter": "python",
   "pygments_lexer": "ipython3",
   "version": "3.7.6"
  }
 },
 "nbformat": 4,
 "nbformat_minor": 4
}
